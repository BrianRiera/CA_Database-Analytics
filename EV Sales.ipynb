{
 "cells": [
  {
   "cell_type": "code",
   "execution_count": 1,
   "id": "74cbbe2e",
   "metadata": {
    "ExecuteTime": {
     "end_time": "2023-12-08T19:34:44.019869600Z",
     "start_time": "2023-12-08T19:34:43.862511700Z"
    }
   },
   "outputs": [
    {
     "name": "stdout",
     "output_type": "stream",
     "text": [
      "Line graph: \n",
      "         EVSales\n",
      "year            \n",
      "2010     11194.0\n",
      "2011     53010.0\n",
      "2012    132061.0\n",
      "2013    218615.0\n",
      "2014    357700.0\n",
      "2015    715780.0\n",
      "2016    894175.1\n",
      "2017   1438670.0\n",
      "2018   2286390.0\n",
      "2019   2259380.0\n",
      "2020   3164620.0\n",
      "2021   6754200.0\n",
      "2022  10632800.0\n"
     ]
    },
    {
     "data": {
      "text/plain": "<Figure size 640x480 with 1 Axes>",
      "image/png": "[encoded data removed]"
     },
     "metadata": {},
     "output_type": "display_data"
    },
    {
     "data": {
      "text/plain": "\"\\n\\n\\nplt.plot(result)       \\nax.xaxis.get_data_interval()\\nax.yaxis.get_data_interval()\\nax.margins(0.05)\\n#plt.tight_layout()\\nplt.show() \\n\\n\\nx = np.array([0,1,2,3])\\ny = np.array([0.650, 0.660, 0.675, 0.685])\\nmy_xticks = ['a', 'b', 'c', 'd']\\nplt.xticks(x, my_xticks)\\nplt.yticks(np.arange(y.min(), y.max(), 0.005))\\nplt.plot(x, y)\\nplt.grid(axis='y', linestyle='-')\\n\""
     },
     "execution_count": 1,
     "metadata": {},
     "output_type": "execute_result"
    }
   ],
   "source": [
    "import pandas as pd\n",
    "import matplotlib.pyplot as plt\n",
    "\n",
    "\n",
    "df = pd.read_csv(\"IEA Global EV Data 2023.csv\")\n",
    "\n",
    "\n",
    "result = df.loc[(df['region'] == 'World') & (df['category'] == 'Historical') & (df['parameter'] == 'EV sales')].groupby([\"year\"]).agg(EVSales=('value', 'sum'))\n",
    "\n",
    "\n",
    "# plotting a line graph \n",
    "print(\"Line graph: \") \n",
    "print(result)\n",
    "#plt.plot(result[\"year\"], result[\"EVSales\"]) \n",
    "fig, ax = plt.subplots()\n",
    "ax.plot(result)\n",
    "\n",
    "#print(ax.xaxis.get_data_interval())\n",
    "#print(ax.yaxis.get_data_interval())\n",
    "\n",
    "plt.show()\n",
    "\n",
    "'''\n",
    "\n",
    "\n",
    "plt.plot(result)       \n",
    "ax.xaxis.get_data_interval()\n",
    "ax.yaxis.get_data_interval()\n",
    "ax.margins(0.05)\n",
    "#plt.tight_layout()\n",
    "plt.show() \n",
    "\n",
    "\n",
    "x = np.array([0,1,2,3])\n",
    "y = np.array([0.650, 0.660, 0.675, 0.685])\n",
    "my_xticks = ['a', 'b', 'c', 'd']\n",
    "plt.xticks(x, my_xticks)\n",
    "plt.yticks(np.arange(y.min(), y.max(), 0.005))\n",
    "plt.plot(x, y)\n",
    "plt.grid(axis='y', linestyle='-')\n",
    "'''"
   ]
  },
  {
   "cell_type": "code",
   "execution_count": 2,
   "outputs": [],
   "source": [
    "import psycopg2 \n",
    "\n",
    "createString = \"\"\"\n",
    "CREATE TABLE IF NOT EXISTS GLOBAL_EV_DATA (\n",
    "Region\tvarchar(50),\n",
    "Category varchar(50),\n",
    "Parameter\tvarchar(50),\n",
    "Mode\tvarchar(200),\n",
    "Powertrain\tvarchar(50),\n",
    "Year\tinteger,\n",
    "unit\tvarchar(300),\n",
    "value\tnumeric\n",
    ");\n",
    "\"\"\"\n",
    "\n",
    "readdata = '''select count(*) from GLOBAL_EV_DATA;'''\n"
   ],
   "metadata": {
    "collapsed": false,
    "ExecuteTime": {
     "end_time": "2023-12-08T23:19:18.384657300Z",
     "start_time": "2023-12-08T23:19:18.340958100Z"
    }
   },
   "id": "8035517cf23a6c91"
  },
  {
   "cell_type": "code",
   "execution_count": 5,
   "outputs": [
    {
     "name": "stdout",
     "output_type": "stream",
     "text": [
      "[(0,)]\n"
     ]
    }
   ],
   "source": [
    "try :\n",
    "    dbConnection = psycopg2.connect(\n",
    "        user = \"dap\",\n",
    "        password = \"dap\",\n",
    "        host = \"192.168.56.30\",\n",
    "        port = \"5432\",\n",
    "        database = \"climate\")\n",
    "    dbConnection.set_isolation_level(0) # AUTOCOMMIT\n",
    "    dbCursor = dbConnection.cursor()\n",
    "    #dbCursor.execute(\"drop table GLOBAL_EV_DATA;\")\n",
    "    dbCursor.execute(createString)\n",
    "    dbCursor.execute(readdata)\n",
    "    print (dbCursor.fetchall())\n",
    "    dbCursor.close()\n",
    "except (Exception , psycopg2.Error) as dbError :\n",
    "    print (\"Error while connecting to PostgreSQL\", dbError)\n",
    "finally:\n",
    "    if(dbConnection):\n",
    "        dbConnection.close()"
   ],
   "metadata": {
    "collapsed": false,
    "ExecuteTime": {
     "end_time": "2023-12-08T23:20:30.882239100Z",
     "start_time": "2023-12-08T23:20:30.795530300Z"
    }
   },
   "id": "5d0df6dad6243a09"
  },
  {
   "cell_type": "code",
   "execution_count": 7,
   "outputs": [
    {
     "name": "stdout",
     "output_type": "stream",
     "text": [
      "INSERT INTO GLOBAL_EV_DATA VALUES ('{}','{}','{}','{}','{}','{}','{}',{})\n"
     ]
    }
   ],
   "source": [
    "import csv\n",
    "\n",
    "\n",
    "try:\n",
    "    dbConnection = psycopg2.connect(\n",
    "                            user = \"dap\",\n",
    "                            password = \"dap\",\n",
    "                            host = \"192.168.56.30\",\n",
    "                            port = \"5432\",\n",
    "                            database = \"climate\")\n",
    "    dbConnection.set_isolation_level(0) # AUTOCOMMIT\n",
    "    dbCursor = dbConnection.cursor()\n",
    "    #insertString = \"INSERT INTO GreenHouse_CO2 VALUES ('{}',\"+\"'{}',\"*8+\"'to_number({}, '9999999999.99999')','{}','{}','{}')\"\n",
    "    insertString = \"INSERT INTO GLOBAL_EV_DATA VALUES ('{}',\" + \"'{}',\"*6 + \"{})\"\n",
    "\n",
    "    print(insertString)\n",
    "    with open('IEA Global EV Data 2023.csv', 'r') as f:\n",
    "        reader = csv.reader(f)\n",
    "        next(reader) # skip the header\n",
    "        for row in reader:\n",
    "            dbCursor.execute(insertString.format(*row))\n",
    "    dbCursor.close()\n",
    "except (Exception , psycopg2.Error) as dbError :\n",
    "    print (\"Error:\", dbError)\n",
    "finally:\n",
    "    if(dbConnection):\n",
    "        dbConnection.close()"
   ],
   "metadata": {
    "collapsed": false,
    "ExecuteTime": {
     "end_time": "2023-12-08T23:26:34.102070900Z",
     "start_time": "2023-12-08T23:25:25.478494100Z"
    }
   },
   "id": "f0c513e901a19151"
  },
  {
   "cell_type": "code",
   "execution_count": 22,
   "outputs": [
    {
     "name": "stdout",
     "output_type": "stream",
     "text": [
      "(2010, Decimal('2840'))\n",
      "(2011, Decimal('10430'))\n",
      "(2012, Decimal('30900'))\n",
      "(2013, Decimal('77000'))\n",
      "(2014, Decimal('133000'))\n",
      "(2015, Decimal('250000'))\n",
      "(2016, Decimal('370000'))\n",
      "(2017, Decimal('510000'))\n",
      "(2018, Decimal('750000'))\n",
      "(2019, Decimal('1090000'))\n",
      "(2020, Decimal('2180000'))\n",
      "(2021, Decimal('3900000'))\n",
      "(2022, Decimal('5700000'))\n",
      "(2010, Decimal('0.00139999995008111'))\n",
      "(2011, Decimal('0.004999999888241291'))\n",
      "(2012, Decimal('0.014000000432133675'))\n",
      "(2013, Decimal('0.03500000014901161'))\n",
      "(2014, Decimal('0.05999999865889549'))\n",
      "(2015, Decimal('0.10999999940395355'))\n",
      "(2016, Decimal('0.17000000178813934'))\n",
      "(2017, Decimal('0.23000000417232513'))\n",
      "(2018, Decimal('0.33000001311302185'))\n",
      "(2019, Decimal('0.44999998807907104'))\n",
      "(2020, Decimal('0.8600000143051147'))\n",
      "(2021, Decimal('1.600000023841858'))\n",
      "(2022, Decimal('2.299999952316284'))\n"
     ]
    }
   ],
   "source": [
    "totalEVStock_Cars = '''Select Year,  \n",
    "    Sum(Value) as TotalEVCars\n",
    "    from GLOBAL_EV_DATA\n",
    "    where Region = 'EU27' and Category = 'Historical' and Parameter = 'EV stock' and mode = 'Cars'\n",
    "    group by  Year\n",
    "'''\n",
    "\n",
    "\n",
    "totalEVStock_Percent = '''Select Year,  \n",
    "    Value as TotalEVCarsPercentage\n",
    "    from GLOBAL_EV_DATA\n",
    "    where Region = 'EU27' and Category = 'Historical' and Parameter = 'EV stock share' and mode = 'Cars'\n",
    "'''\n",
    "\n",
    "\n",
    "try:\n",
    "    dbConnection = psycopg2.connect(user = \"dap\",\n",
    "    password = \"dap\",\n",
    "    host = \"192.168.56.30\",\n",
    "    port = \"5432\",\n",
    "    database = \"climate\")\n",
    "    dbConnection.set_isolation_level(0) # AUTOCOMMIT\n",
    "    dbCursor = dbConnection.cursor()\n",
    "    dbCursor.execute(totalEVStock_Cars)\n",
    "    allEVCars = dbCursor.fetchall(); \n",
    "    for i in allEVCars: \n",
    "        print(i) \n",
    "    dbCursor.execute(totalEVStock_Percent)\n",
    "    allEVCarsPercentage = dbCursor.fetchall(); \n",
    "    for i in allEVCarsPercentage: \n",
    "        print(i) \n",
    "    dbCursor.close()\n",
    "except (Exception , psycopg2.Error) as dbError :\n",
    "    print (\"Error while connecting to PostgreSQL\", dbError)\n",
    "finally:\n",
    "    if(dbConnection):\n",
    "        dbConnection.close()\n"
   ],
   "metadata": {
    "collapsed": false,
    "ExecuteTime": {
     "end_time": "2023-12-09T00:05:50.194878Z",
     "start_time": "2023-12-09T00:05:50.142253600Z"
    }
   },
   "id": "866b4ddafd9e78ec"
  },
  {
   "cell_type": "code",
   "execution_count": 26,
   "outputs": [
    {
     "name": "stdout",
     "output_type": "stream",
     "text": [
      "    Year   EVCars      EVCarsPercentage                  AllCars_Total\n",
      "0   2010     2840   0.00139999995008111  202857150.0902884007647119615\n",
      "1   2011    10430  0.004999999888241291  208600004.6625734436966377370\n",
      "2   2012    30900  0.014000000432133675  220714278.9015662523779437217\n",
      "3   2013    77000   0.03500000014901161  219999999.0633555982734540085\n",
      "4   2014   133000   0.05999999865889549  221666671.6213028838003051590\n",
      "5   2015   250000   0.10999999940395355  227272728.5042282091523548550\n",
      "6   2016   370000   0.17000000178813934  217647056.5342160939762596841\n",
      "7   2017   510000   0.23000000417232513  221739126.4123142198506723437\n",
      "8   2018   750000   0.33000001311302185  227272718.2417208478406695172\n",
      "9   2019  1090000   0.44999998807907104  242222228.6389199558609828554\n",
      "10  2020  2180000    0.8600000143051147  253488367.8765346772213674463\n",
      "11  2021  3900000     1.600000023841858  243749996.3678419994358720519\n",
      "12  2022  5700000     2.299999952316284  247826092.0944647794879581379\n"
     ]
    },
    {
     "data": {
      "text/plain": "<Figure size 640x480 with 1 Axes>",
      "image/png": "[encoded data removed]"
     },
     "metadata": {},
     "output_type": "display_data"
    }
   ],
   "source": [
    "import pandas as pd\n",
    "import matplotlib.pyplot as plt\n",
    "\n",
    "df = pd.DataFrame(allEVCars, columns =['Year', 'EVCars'])\n",
    "sorted_df_cars = df.sort_values('Year').reindex()\n",
    "#print(sorted_df_cars)\n",
    "\n",
    "df1 = pd.DataFrame(allEVCarsPercentage, columns =['Year', 'EVCarsPercentage'])\n",
    "sorted_df_all = df1.sort_values('Year').reindex()\n",
    "#print(sorted_df_all)\n",
    "\n",
    "df_combined = pd.merge(sorted_df_cars, sorted_df_all, on='Year')\n",
    "\n",
    "# using apply function to create a new column\n",
    "df_combined['AllCars_Total'] = df_combined.apply(lambda row: 100*row.EVCars/row.EVCarsPercentage, axis = 1)\n",
    "\n",
    "print(df_combined)\n",
    "\n",
    "plt.plot(df_combined['Year'], df_combined['EVCars'], label = 'EV Cars Total')\n",
    "plt.plot(df_combined['Year'], df_combined['AllCars_Total'], label = 'Total of All Cars')\n",
    "plt.title(\"Electric Vehicles\")\n",
    "plt.xlabel('Year')\n",
    "plt.ylabel('Number of Units')\n",
    "plt.legend()\n",
    "#plt.ylim(0, df_combined.max().iloc[2] + 1000000)\n",
    "plt.show()\n",
    "\n"
   ],
   "metadata": {
    "collapsed": false,
    "ExecuteTime": {
     "end_time": "2023-12-09T00:18:25.051722900Z",
     "start_time": "2023-12-09T00:18:24.922061400Z"
    }
   },
   "id": "1ea37f5d1ed48a4d"
  }
 ],
 "metadata": {
  "kernelspec": {
   "display_name": "Python 3 (ipykernel)",
   "language": "python",
   "name": "python3"
  },
  "language_info": {
   "codemirror_mode": {
    "name": "ipython",
    "version": 3
   },
   "file_extension": ".py",
   "mimetype": "text/x-python",
   "name": "python",
   "nbconvert_exporter": "python",
   "pygments_lexer": "ipython3",
   "version": "3.11.5"
  }
 },
 "nbformat": 4,
 "nbformat_minor": 5
}
