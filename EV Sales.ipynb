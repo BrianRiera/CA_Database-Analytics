{
 "cells": [
  {
   "cell_type": "code",
   "execution_count": 1,
   "id": "74cbbe2e",
   "metadata": {
    "ExecuteTime": {
     "end_time": "2023-12-08T19:34:44.019869600Z",
     "start_time": "2023-12-08T19:34:43.862511700Z"
    }
   },
   "outputs": [
    {
     "name": "stdout",
     "output_type": "stream",
     "text": [
      "Line graph: \n",
      "         EVSales\n",
      "year            \n",
      "2010     11194.0\n",
      "2011     53010.0\n",
      "2012    132061.0\n",
      "2013    218615.0\n",
      "2014    357700.0\n",
      "2015    715780.0\n",
      "2016    894175.1\n",
      "2017   1438670.0\n",
      "2018   2286390.0\n",
      "2019   2259380.0\n",
      "2020   3164620.0\n",
      "2021   6754200.0\n",
      "2022  10632800.0\n"
     ]
    },
    {
     "data": {
      "text/plain": "<Figure size 640x480 with 1 Axes>",
      "image/png": "[encoded data removed]"
     },
     "metadata": {},
     "output_type": "display_data"
    },
    {
     "data": {
      "text/plain": "\"\\n\\n\\nplt.plot(result)       \\nax.xaxis.get_data_interval()\\nax.yaxis.get_data_interval()\\nax.margins(0.05)\\n#plt.tight_layout()\\nplt.show() \\n\\n\\nx = np.array([0,1,2,3])\\ny = np.array([0.650, 0.660, 0.675, 0.685])\\nmy_xticks = ['a', 'b', 'c', 'd']\\nplt.xticks(x, my_xticks)\\nplt.yticks(np.arange(y.min(), y.max(), 0.005))\\nplt.plot(x, y)\\nplt.grid(axis='y', linestyle='-')\\n\""
     },
     "execution_count": 1,
     "metadata": {},
     "output_type": "execute_result"
    }
   ],
   "source": [
    "import pandas as pd\n",
    "import matplotlib.pyplot as plt\n",
    "\n",
    "\n",
    "df = pd.read_csv(\"IEA Global EV Data 2023.csv\")\n",
    "\n",
    "#print(dataset)\n",
    "\n",
    "#dataset.groupby([\"region\", \"category\", \"parameter\", \"mode\", \"year\"])[\"value\"].sum()\n",
    "\n",
    "#dataset.query(\"region == 'World'\", \"category='Historical'\", \"parameter='EV sales'\", \"year='2022\").groupby([\"region\", \"category\", \"parameter\", \"mode\", \"year\"])[\"value\"].sum()\n",
    "#df.loc[(df['region'] == 'World') & (df['category'] == 'Historical') & (df['parameter'] == 'EV sales')].groupby([\"region\", \"category\", \"parameter\", \"year\"])[\"value\"].sum()\n",
    "\n",
    "\n",
    "result = df.loc[(df['region'] == 'World') & (df['category'] == 'Historical') & (df['parameter'] == 'EV sales')].groupby([\"year\"]).agg(EVSales=('value', 'sum'))\n",
    "\n",
    "\n",
    "# plotting a line graph \n",
    "print(\"Line graph: \") \n",
    "print(result)\n",
    "#plt.plot(result[\"year\"], result[\"EVSales\"]) \n",
    "fig, ax = plt.subplots()\n",
    "ax.plot(result)\n",
    "\n",
    "#print(ax.xaxis.get_data_interval())\n",
    "#print(ax.yaxis.get_data_interval())\n",
    "\n",
    "plt.show()\n",
    "\n",
    "\n",
    "\n",
    "\n",
    "\n",
    "'''\n",
    "\n",
    "\n",
    "plt.plot(result)       \n",
    "ax.xaxis.get_data_interval()\n",
    "ax.yaxis.get_data_interval()\n",
    "ax.margins(0.05)\n",
    "#plt.tight_layout()\n",
    "plt.show() \n",
    "\n",
    "\n",
    "x = np.array([0,1,2,3])\n",
    "y = np.array([0.650, 0.660, 0.675, 0.685])\n",
    "my_xticks = ['a', 'b', 'c', 'd']\n",
    "plt.xticks(x, my_xticks)\n",
    "plt.yticks(np.arange(y.min(), y.max(), 0.005))\n",
    "plt.plot(x, y)\n",
    "plt.grid(axis='y', linestyle='-')\n",
    "'''"
   ]
  }
 ],
 "metadata": {
  "kernelspec": {
   "display_name": "Python 3 (ipykernel)",
   "language": "python",
   "name": "python3"
  },
  "language_info": {
   "codemirror_mode": {
    "name": "ipython",
    "version": 3
   },
   "file_extension": ".py",
   "mimetype": "text/x-python",
   "name": "python",
   "nbconvert_exporter": "python",
   "pygments_lexer": "ipython3",
   "version": "3.11.5"
  }
 },
 "nbformat": 4,
 "nbformat_minor": 5
}
