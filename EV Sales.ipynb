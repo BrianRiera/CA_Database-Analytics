{
 "cells": [
  {
   "cell_type": "code",
   "execution_count": 36,
   "id": "74cbbe2e",
   "metadata": {},
   "outputs": [
    {
     "name": "stdout",
     "output_type": "stream",
     "text": [
      "         region        category       parameter    mode powertrain  year  \\\n",
      "0     Australia      Historical        EV stock    Cars        BEV  2011   \n",
      "1     Australia      Historical  EV sales share    Cars         EV  2011   \n",
      "2     Australia      Historical  EV stock share    Cars         EV  2011   \n",
      "3     Australia      Historical        EV sales    Cars        BEV  2011   \n",
      "4     Australia      Historical        EV sales    Cars        BEV  2012   \n",
      "...         ...             ...             ...     ...        ...   ...   \n",
      "9537      World  Projection-APS        EV stock  Trucks       PHEV  2030   \n",
      "9538      World  Projection-APS        EV stock    Vans        BEV  2030   \n",
      "9539      World  Projection-APS        EV stock    Vans       PHEV  2030   \n",
      "9540      World  Projection-APS        EV stock    Cars        BEV  2030   \n",
      "9541      World  Projection-APS        EV stock    Cars       PHEV  2030   \n",
      "\n",
      "          unit         value  \n",
      "0     Vehicles  4.900000e+01  \n",
      "1      percent  6.500000e-03  \n",
      "2      percent  4.600000e-04  \n",
      "3     Vehicles  4.900000e+01  \n",
      "4     Vehicles  1.700000e+02  \n",
      "...        ...           ...  \n",
      "9537  Vehicles  9.100000e+05  \n",
      "9538  Vehicles  1.200000e+07  \n",
      "9539  Vehicles  1.300000e+06  \n",
      "9540  Vehicles  1.800000e+08  \n",
      "9541  Vehicles  5.000000e+07  \n",
      "\n",
      "[9542 rows x 8 columns]\n",
      "Line graph: \n",
      "[2010. 2022.]\n",
      "[   11194. 10632800.]\n"
     ]
    },
    {
     "data": {
      "image/png": "[encoded data removed]",
      "text/plain": [
       "<Figure size 640x480 with 1 Axes>"
      ]
     },
     "metadata": {},
     "output_type": "display_data"
    },
    {
     "data": {
      "text/plain": [
       "\"\\n\\n\\nplt.plot(result)       \\nax.xaxis.get_data_interval()\\nax.yaxis.get_data_interval()\\nax.margins(0.05)\\n#plt.tight_layout()\\nplt.show() \\n\\n\\nx = np.array([0,1,2,3])\\ny = np.array([0.650, 0.660, 0.675, 0.685])\\nmy_xticks = ['a', 'b', 'c', 'd']\\nplt.xticks(x, my_xticks)\\nplt.yticks(np.arange(y.min(), y.max(), 0.005))\\nplt.plot(x, y)\\nplt.grid(axis='y', linestyle='-')\\n\""
      ]
     },
     "execution_count": 36,
     "metadata": {},
     "output_type": "execute_result"
    }
   ],
   "source": [
    "import pandas as pd\n",
    "import matplotlib.pyplot as plt\n",
    "\n",
    "\n",
    "df = pd.read_csv(\"IEA Global EV Data 2023.csv\")\n",
    "\n",
    "#print(dataset)\n",
    "\n",
    "#dataset.groupby([\"region\", \"category\", \"parameter\", \"mode\", \"year\"])[\"value\"].sum()\n",
    "\n",
    "#dataset.query(\"region == 'World'\", \"category='Historical'\", \"parameter='EV sales'\", \"year='2022\").groupby([\"region\", \"category\", \"parameter\", \"mode\", \"year\"])[\"value\"].sum()\n",
    "#df.loc[(df['region'] == 'World') & (df['category'] == 'Historical') & (df['parameter'] == 'EV sales')].groupby([\"region\", \"category\", \"parameter\", \"year\"])[\"value\"].sum()\n",
    "\n",
    "\n",
    "result = df.loc[(df['region'] == 'World') & (df['category'] == 'Historical') & (df['parameter'] == 'EV sales')].groupby([\"year\"]).agg(EVSales=('value', 'sum'))\n",
    "\n",
    "\n",
    "# plotting a line graph \n",
    "print(\"Line graph: \") \n",
    "#plt.plot(result[\"year\"], result[\"EVSales\"]) \n",
    "fig, ax = plt.subplots()\n",
    "ax.plot(result)\n",
    "\n",
    "print(ax.xaxis.get_data_interval())\n",
    "print(ax.yaxis.get_data_interval())\n",
    "plt.show()\n",
    "\n",
    "\n",
    "\n",
    "\n",
    "\n",
    "'''\n",
    "\n",
    "\n",
    "plt.plot(result)       \n",
    "ax.xaxis.get_data_interval()\n",
    "ax.yaxis.get_data_interval()\n",
    "ax.margins(0.05)\n",
    "#plt.tight_layout()\n",
    "plt.show() \n",
    "\n",
    "\n",
    "x = np.array([0,1,2,3])\n",
    "y = np.array([0.650, 0.660, 0.675, 0.685])\n",
    "my_xticks = ['a', 'b', 'c', 'd']\n",
    "plt.xticks(x, my_xticks)\n",
    "plt.yticks(np.arange(y.min(), y.max(), 0.005))\n",
    "plt.plot(x, y)\n",
    "plt.grid(axis='y', linestyle='-')\n",
    "'''"
   ]
  }
 ],
 "metadata": {
  "kernelspec": {
   "display_name": "Python 3 (ipykernel)",
   "language": "python",
   "name": "python3"
  },
  "language_info": {
   "codemirror_mode": {
    "name": "ipython",
    "version": 3
   },
   "file_extension": ".py",
   "mimetype": "text/x-python",
   "name": "python",
   "nbconvert_exporter": "python",
   "pygments_lexer": "ipython3",
   "version": "3.11.5"
  }
 },
 "nbformat": 4,
 "nbformat_minor": 5
}
