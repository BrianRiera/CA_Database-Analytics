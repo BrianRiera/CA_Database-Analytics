{
 "cells": [
  {
   "cell_type": "code",
   "execution_count": 4,
   "id": "7a9ffc91",
   "metadata": {
    "ExecuteTime": {
     "end_time": "2023-12-08T14:56:26.546159900Z",
     "start_time": "2023-12-08T14:56:26.516641200Z"
    }
   },
   "outputs": [],
   "source": [
    "import pandas as pd\n",
    "import psycopg2\n",
    "import sqlalchemy\n",
    "import csv\n",
    "connection_settings = {\n",
    "    'user': 'dap',\n",
    "    'password': 'dap',\n",
    "    'host': '192.168.56.30',\n",
    "    'port': '5432',\n",
    "    'database': 'climate'}"
   ]
  },
  {
   "cell_type": "code",
   "execution_count": 5,
   "id": "01388874",
   "metadata": {
    "ExecuteTime": {
     "end_time": "2023-12-08T14:56:26.598200600Z",
     "start_time": "2023-12-08T14:56:26.529862300Z"
    }
   },
   "outputs": [],
   "source": [
    "def read_table(table_name, connection_settings):\n",
    "    try:\n",
    "        # Connect to the PostgreSQL database\n",
    "        dbConnection = psycopg2.connect(**connection_settings)\n",
    "        dbCursor = dbConnection.cursor()\n",
    "        query = f'SELECT * FROM {table_name};'\n",
    "        dbCursor.execute(query)\n",
    "\n",
    "        # Get all column names and data   \n",
    "        data = dbCursor.fetchall()\n",
    "        columns = [desc[0] for desc in dbCursor.description]\n",
    "\n",
    "        # Convert data to a Pandas DataFrame\n",
    "        df = pd.DataFrame(data, columns=columns)\n",
    "\n",
    "        return df\n",
    "    except (Exception, psycopg2.Error) as dbError:\n",
    "        print(f\"Error while connecting to PostgreSQL or querying table {table_name}: {dbError}\")\n",
    "        return None\n",
    "    finally:\n",
    "        if dbConnection:\n",
    "            dbConnection.close()\n",
    "\n"
   ]
  },
  {
   "cell_type": "code",
   "execution_count": 6,
   "id": "90a7e9b6",
   "metadata": {
    "scrolled": false,
    "ExecuteTime": {
     "end_time": "2023-12-08T14:56:26.639765600Z",
     "start_time": "2023-12-08T14:56:26.539268900Z"
    }
   },
   "outputs": [
    {
     "data": {
      "text/plain": "          Country or Area   2010   2011   2012   2013   2014   2015   2016  \\\n0                 Albania  21.63  23.41  21.56  20.05  19.94  19.54  17.82   \n1                 Algeria  31.94  31.47  32.49  30.35  31.88  33.44  32.79   \n2                 Andorra  11.26  12.31  11.21  10.22   9.59  10.35   8.94   \n3                  Angola  28.63  28.81  29.11  29.21  28.24  29.10  29.18   \n4               Argentina  13.74  14.19  13.36  14.70  13.78  14.59  14.11   \n..                    ...    ...    ...    ...    ...    ...    ...    ...   \n103  United Arab Emirates  43.53  45.90  47.64  44.35  41.10  45.91  43.22   \n104        United Kingdom  12.43  13.00  11.43  11.42  10.89  10.37  10.21   \n105               Uruguay   9.42   9.68   9.30  10.33   9.89   9.94   9.90   \n106            Uzbekistan  32.29  41.44  39.02  39.48  37.50  35.49  35.12   \n107                Zambia  27.03  28.11  28.36  27.29  27.35  28.26  27.41   \n\n      2017   2018   2019   2020  2021  2022  \n0    19.02  18.82  18.64  16.00  12.5  14.5  \n1    32.55  32.66  32.83  20.20  20.0  17.8  \n2     9.14   9.18   9.07   7.40   7.3   5.4  \n3    28.04  28.51  28.42  13.00  11.0   8.8  \n4    13.61  13.63  13.51  14.20   8.2   7.7  \n..     ...    ...    ...    ...   ...   ...  \n103  43.82  43.81  43.67  29.20  36.0  45.9  \n104  10.36  10.17  10.09   8.30   8.8   8.9  \n105   9.54   9.58   9.53   9.53  14.2  11.3  \n106  35.07  34.78  34.79  29.90  42.8  33.5  \n107  26.18  26.35  25.93  25.93  24.6  24.6  \n\n[108 rows x 14 columns]",
      "text/html": "<div>\n<style scoped>\n    .dataframe tbody tr th:only-of-type {\n        vertical-align: middle;\n    }\n\n    .dataframe tbody tr th {\n        vertical-align: top;\n    }\n\n    .dataframe thead th {\n        text-align: right;\n    }\n</style>\n<table border=\"1\" class=\"dataframe\">\n  <thead>\n    <tr style=\"text-align: right;\">\n      <th></th>\n      <th>Country or Area</th>\n      <th>2010</th>\n      <th>2011</th>\n      <th>2012</th>\n      <th>2013</th>\n      <th>2014</th>\n      <th>2015</th>\n      <th>2016</th>\n      <th>2017</th>\n      <th>2018</th>\n      <th>2019</th>\n      <th>2020</th>\n      <th>2021</th>\n      <th>2022</th>\n    </tr>\n  </thead>\n  <tbody>\n    <tr>\n      <th>0</th>\n      <td>Albania</td>\n      <td>21.63</td>\n      <td>23.41</td>\n      <td>21.56</td>\n      <td>20.05</td>\n      <td>19.94</td>\n      <td>19.54</td>\n      <td>17.82</td>\n      <td>19.02</td>\n      <td>18.82</td>\n      <td>18.64</td>\n      <td>16.00</td>\n      <td>12.5</td>\n      <td>14.5</td>\n    </tr>\n    <tr>\n      <th>1</th>\n      <td>Algeria</td>\n      <td>31.94</td>\n      <td>31.47</td>\n      <td>32.49</td>\n      <td>30.35</td>\n      <td>31.88</td>\n      <td>33.44</td>\n      <td>32.79</td>\n      <td>32.55</td>\n      <td>32.66</td>\n      <td>32.83</td>\n      <td>20.20</td>\n      <td>20.0</td>\n      <td>17.8</td>\n    </tr>\n    <tr>\n      <th>2</th>\n      <td>Andorra</td>\n      <td>11.26</td>\n      <td>12.31</td>\n      <td>11.21</td>\n      <td>10.22</td>\n      <td>9.59</td>\n      <td>10.35</td>\n      <td>8.94</td>\n      <td>9.14</td>\n      <td>9.18</td>\n      <td>9.07</td>\n      <td>7.40</td>\n      <td>7.3</td>\n      <td>5.4</td>\n    </tr>\n    <tr>\n      <th>3</th>\n      <td>Angola</td>\n      <td>28.63</td>\n      <td>28.81</td>\n      <td>29.11</td>\n      <td>29.21</td>\n      <td>28.24</td>\n      <td>29.10</td>\n      <td>29.18</td>\n      <td>28.04</td>\n      <td>28.51</td>\n      <td>28.42</td>\n      <td>13.00</td>\n      <td>11.0</td>\n      <td>8.8</td>\n    </tr>\n    <tr>\n      <th>4</th>\n      <td>Argentina</td>\n      <td>13.74</td>\n      <td>14.19</td>\n      <td>13.36</td>\n      <td>14.70</td>\n      <td>13.78</td>\n      <td>14.59</td>\n      <td>14.11</td>\n      <td>13.61</td>\n      <td>13.63</td>\n      <td>13.51</td>\n      <td>14.20</td>\n      <td>8.2</td>\n      <td>7.7</td>\n    </tr>\n    <tr>\n      <th>...</th>\n      <td>...</td>\n      <td>...</td>\n      <td>...</td>\n      <td>...</td>\n      <td>...</td>\n      <td>...</td>\n      <td>...</td>\n      <td>...</td>\n      <td>...</td>\n      <td>...</td>\n      <td>...</td>\n      <td>...</td>\n      <td>...</td>\n      <td>...</td>\n    </tr>\n    <tr>\n      <th>103</th>\n      <td>United Arab Emirates</td>\n      <td>43.53</td>\n      <td>45.90</td>\n      <td>47.64</td>\n      <td>44.35</td>\n      <td>41.10</td>\n      <td>45.91</td>\n      <td>43.22</td>\n      <td>43.82</td>\n      <td>43.81</td>\n      <td>43.67</td>\n      <td>29.20</td>\n      <td>36.0</td>\n      <td>45.9</td>\n    </tr>\n    <tr>\n      <th>104</th>\n      <td>United Kingdom</td>\n      <td>12.43</td>\n      <td>13.00</td>\n      <td>11.43</td>\n      <td>11.42</td>\n      <td>10.89</td>\n      <td>10.37</td>\n      <td>10.21</td>\n      <td>10.36</td>\n      <td>10.17</td>\n      <td>10.09</td>\n      <td>8.30</td>\n      <td>8.8</td>\n      <td>8.9</td>\n    </tr>\n    <tr>\n      <th>105</th>\n      <td>Uruguay</td>\n      <td>9.42</td>\n      <td>9.68</td>\n      <td>9.30</td>\n      <td>10.33</td>\n      <td>9.89</td>\n      <td>9.94</td>\n      <td>9.90</td>\n      <td>9.54</td>\n      <td>9.58</td>\n      <td>9.53</td>\n      <td>9.53</td>\n      <td>14.2</td>\n      <td>11.3</td>\n    </tr>\n    <tr>\n      <th>106</th>\n      <td>Uzbekistan</td>\n      <td>32.29</td>\n      <td>41.44</td>\n      <td>39.02</td>\n      <td>39.48</td>\n      <td>37.50</td>\n      <td>35.49</td>\n      <td>35.12</td>\n      <td>35.07</td>\n      <td>34.78</td>\n      <td>34.79</td>\n      <td>29.90</td>\n      <td>42.8</td>\n      <td>33.5</td>\n    </tr>\n    <tr>\n      <th>107</th>\n      <td>Zambia</td>\n      <td>27.03</td>\n      <td>28.11</td>\n      <td>28.36</td>\n      <td>27.29</td>\n      <td>27.35</td>\n      <td>28.26</td>\n      <td>27.41</td>\n      <td>26.18</td>\n      <td>26.35</td>\n      <td>25.93</td>\n      <td>25.93</td>\n      <td>24.6</td>\n      <td>24.6</td>\n    </tr>\n  </tbody>\n</table>\n<p>108 rows × 14 columns</p>\n</div>"
     },
     "execution_count": 6,
     "metadata": {},
     "output_type": "execute_result"
    }
   ],
   "source": [
    "table_name = 'air_pollution'\n",
    "read_table(table_name, connection_settings)"
   ]
  },
  {
   "cell_type": "code",
   "execution_count": 7,
   "id": "f8f11f8e",
   "metadata": {
    "ExecuteTime": {
     "end_time": "2023-12-08T14:56:26.746257100Z",
     "start_time": "2023-12-08T14:56:26.639765600Z"
    }
   },
   "outputs": [
    {
     "name": "stdout",
     "output_type": "stream",
     "text": [
      "     Country or Area  year  air_pollution\n",
      "0            Albania  2010          21.63\n",
      "108          Albania  2011          23.41\n",
      "216          Albania  2012          21.56\n",
      "324          Albania  2013          20.05\n",
      "432          Albania  2014          19.94\n",
      "...              ...   ...            ...\n",
      "971           Zambia  2018          26.35\n",
      "1079          Zambia  2019          25.93\n",
      "1187          Zambia  2020          25.93\n",
      "1295          Zambia  2021          24.60\n",
      "1403          Zambia  2022          24.60\n",
      "\n",
      "[1404 rows x 3 columns]\n"
     ]
    },
    {
     "name": "stderr",
     "output_type": "stream",
     "text": [
      "C:\\Users\\rames\\AppData\\Local\\Temp\\ipykernel_23384\\2126777582.py:17: UserWarning: pandas only supports SQLAlchemy connectable (engine/connection) or database string URI or sqlite3 DBAPI2 connection. Other DBAPI2 objects are not tested. Please consider using SQLAlchemy.\n",
      "  air_pollution_df = pd.read_sql(sql_query, dbConnection)\n"
     ]
    }
   ],
   "source": [
    "## converting air_pollution table to show \"country or area\", year, air pollution as columns\n",
    "import psycopg2\n",
    "import pandas as pd\n",
    "\n",
    "\n",
    "dbConnection = psycopg2.connect(user='dap',\n",
    "password='dap',\n",
    "host='192.168.56.30',\n",
    "port='5432',\n",
    "database='climate')\n",
    "\n",
    "\n",
    "sql_query = \"SELECT * FROM air_pollution\"\n",
    "table_name = 'air_pollution'\n",
    "\n",
    "\n",
    "air_pollution_df = pd.read_sql(sql_query, dbConnection)\n",
    "\n",
    "\n",
    "dbConnection.close()\n",
    "\n",
    "\n",
    "air_pollution_df = pd.melt(air_pollution_df, id_vars=['Country or Area'], value_vars=[str(i) for i in range(2010, 2023)], var_name='year', value_name='air_pollution')\n",
    "\n",
    "\n",
    "air_pollution_df['year'] = pd.to_numeric(air_pollution_df['year'], errors='coerce')\n",
    "\n",
    "\n",
    "air_pollution_df = air_pollution_df.sort_values(by=['Country or Area', 'year'])\n",
    "\n",
    "\n",
    "print(air_pollution_df)"
   ]
  },
  {
   "cell_type": "code",
   "execution_count": 8,
   "id": "7530f3fd",
   "metadata": {
    "ExecuteTime": {
     "end_time": "2023-12-08T14:56:26.835113900Z",
     "start_time": "2023-12-08T14:56:26.701798300Z"
    }
   },
   "outputs": [
    {
     "data": {
      "text/plain": "                         Country    1990    1991    1992    1993    1994  \\\n0                    Afghanistan  0.1914  0.1807  0.1265  0.1091  0.0966   \n1    Africa Eastern and Southern  0.9830  0.9422  0.9079  0.9095  0.9134   \n2     Africa Western and Central  0.4701  0.5211  0.5580  0.5139  0.4624   \n3                        Albania  1.8440  1.2611  0.6896  0.6440  0.6499   \n4                        Algeria  2.4664  2.5419  2.4990  2.6401  2.6347   \n..                           ...     ...     ...     ...     ...     ...   \n234                     Viet Nam  0.2889  0.2896  0.2982  0.3406  0.3680   \n235                        World  4.0209  3.9833  3.9103  3.8750  3.8420   \n236                  Yemen, Rep.  0.4966  0.6116  0.6325  0.5706  0.6005   \n237                       Zambia  0.3566  0.3650  0.3527  0.3040  0.2530   \n238                     Zimbabwe  1.6349  1.7635  1.7356  1.5818  1.4698   \n\n       1995    1996    1997    1998  ...    2011    2012    2013    2014  \\\n0    0.0888  0.0823  0.0756  0.0713  ...  0.4090  0.3351  0.2981  0.2837   \n1    0.9330  0.9432  0.9622  0.9632  ...  0.9768  0.9896  1.0012  1.0138   \n2    0.4927  0.5543  0.5401  0.5067  ...  0.4516  0.4521  0.4816  0.4935   \n3    0.6121  0.6212  0.4698  0.5768  ...  1.7681  1.5659  1.6564  1.7957   \n4    2.6842  2.6264  2.5252  2.4946  ...  3.3052  3.6214  3.6585  3.8115   \n..      ...     ...     ...     ...  ...     ...     ...     ...     ...   \n234  0.4257  0.4674  0.5370  0.5896  ...  1.7654  1.7416  1.8201  1.9806   \n235  3.8939  3.9196  3.9353  3.9075  ...  4.6895  4.6853  4.7194  4.6818   \n236  0.6540  0.6500  0.6804  0.7074  ...  0.9009  0.8013  1.0312  0.9883   \n237  0.2452  0.1979  0.2502  0.2319  ...  0.2138  0.2733  0.2782  0.2978   \n238  1.4084  1.3296  1.2168  1.2186  ...  0.8719  0.9012  0.9012  0.8668   \n\n       2015    2016    2017    2018    2019    2020  \n0    0.2980  0.2684  0.2812  0.2991  0.2976  0.2235  \n1    0.9604  0.9413  0.9339  0.9215  0.9153  0.7954  \n2    0.4756  0.4798  0.4652  0.4758  0.4908  0.4632  \n3    1.6652  1.5901  1.8806  1.8546  1.7495  1.5446  \n4    3.9520  3.8338  3.8337  3.9243  3.9944  3.7182  \n..      ...     ...     ...     ...     ...     ...  \n234  2.1858  2.3842  2.4446  3.0147  3.5678  3.6764  \n235  4.6008  4.5575  4.5773  4.6413  4.5820  4.2919  \n236  0.4752  0.3428  0.3224  0.3686  0.3549  0.3085  \n237  0.3051  0.3170  0.3937  0.4405  0.4143  0.4019  \n238  0.8470  0.7231  0.6631  0.7354  0.6633  0.5305  \n\n[239 rows x 32 columns]",
      "text/html": "<div>\n<style scoped>\n    .dataframe tbody tr th:only-of-type {\n        vertical-align: middle;\n    }\n\n    .dataframe tbody tr th {\n        vertical-align: top;\n    }\n\n    .dataframe thead th {\n        text-align: right;\n    }\n</style>\n<table border=\"1\" class=\"dataframe\">\n  <thead>\n    <tr style=\"text-align: right;\">\n      <th></th>\n      <th>Country</th>\n      <th>1990</th>\n      <th>1991</th>\n      <th>1992</th>\n      <th>1993</th>\n      <th>1994</th>\n      <th>1995</th>\n      <th>1996</th>\n      <th>1997</th>\n      <th>1998</th>\n      <th>...</th>\n      <th>2011</th>\n      <th>2012</th>\n      <th>2013</th>\n      <th>2014</th>\n      <th>2015</th>\n      <th>2016</th>\n      <th>2017</th>\n      <th>2018</th>\n      <th>2019</th>\n      <th>2020</th>\n    </tr>\n  </thead>\n  <tbody>\n    <tr>\n      <th>0</th>\n      <td>Afghanistan</td>\n      <td>0.1914</td>\n      <td>0.1807</td>\n      <td>0.1265</td>\n      <td>0.1091</td>\n      <td>0.0966</td>\n      <td>0.0888</td>\n      <td>0.0823</td>\n      <td>0.0756</td>\n      <td>0.0713</td>\n      <td>...</td>\n      <td>0.4090</td>\n      <td>0.3351</td>\n      <td>0.2981</td>\n      <td>0.2837</td>\n      <td>0.2980</td>\n      <td>0.2684</td>\n      <td>0.2812</td>\n      <td>0.2991</td>\n      <td>0.2976</td>\n      <td>0.2235</td>\n    </tr>\n    <tr>\n      <th>1</th>\n      <td>Africa Eastern and Southern</td>\n      <td>0.9830</td>\n      <td>0.9422</td>\n      <td>0.9079</td>\n      <td>0.9095</td>\n      <td>0.9134</td>\n      <td>0.9330</td>\n      <td>0.9432</td>\n      <td>0.9622</td>\n      <td>0.9632</td>\n      <td>...</td>\n      <td>0.9768</td>\n      <td>0.9896</td>\n      <td>1.0012</td>\n      <td>1.0138</td>\n      <td>0.9604</td>\n      <td>0.9413</td>\n      <td>0.9339</td>\n      <td>0.9215</td>\n      <td>0.9153</td>\n      <td>0.7954</td>\n    </tr>\n    <tr>\n      <th>2</th>\n      <td>Africa Western and Central</td>\n      <td>0.4701</td>\n      <td>0.5211</td>\n      <td>0.5580</td>\n      <td>0.5139</td>\n      <td>0.4624</td>\n      <td>0.4927</td>\n      <td>0.5543</td>\n      <td>0.5401</td>\n      <td>0.5067</td>\n      <td>...</td>\n      <td>0.4516</td>\n      <td>0.4521</td>\n      <td>0.4816</td>\n      <td>0.4935</td>\n      <td>0.4756</td>\n      <td>0.4798</td>\n      <td>0.4652</td>\n      <td>0.4758</td>\n      <td>0.4908</td>\n      <td>0.4632</td>\n    </tr>\n    <tr>\n      <th>3</th>\n      <td>Albania</td>\n      <td>1.8440</td>\n      <td>1.2611</td>\n      <td>0.6896</td>\n      <td>0.6440</td>\n      <td>0.6499</td>\n      <td>0.6121</td>\n      <td>0.6212</td>\n      <td>0.4698</td>\n      <td>0.5768</td>\n      <td>...</td>\n      <td>1.7681</td>\n      <td>1.5659</td>\n      <td>1.6564</td>\n      <td>1.7957</td>\n      <td>1.6652</td>\n      <td>1.5901</td>\n      <td>1.8806</td>\n      <td>1.8546</td>\n      <td>1.7495</td>\n      <td>1.5446</td>\n    </tr>\n    <tr>\n      <th>4</th>\n      <td>Algeria</td>\n      <td>2.4664</td>\n      <td>2.5419</td>\n      <td>2.4990</td>\n      <td>2.6401</td>\n      <td>2.6347</td>\n      <td>2.6842</td>\n      <td>2.6264</td>\n      <td>2.5252</td>\n      <td>2.4946</td>\n      <td>...</td>\n      <td>3.3052</td>\n      <td>3.6214</td>\n      <td>3.6585</td>\n      <td>3.8115</td>\n      <td>3.9520</td>\n      <td>3.8338</td>\n      <td>3.8337</td>\n      <td>3.9243</td>\n      <td>3.9944</td>\n      <td>3.7182</td>\n    </tr>\n    <tr>\n      <th>...</th>\n      <td>...</td>\n      <td>...</td>\n      <td>...</td>\n      <td>...</td>\n      <td>...</td>\n      <td>...</td>\n      <td>...</td>\n      <td>...</td>\n      <td>...</td>\n      <td>...</td>\n      <td>...</td>\n      <td>...</td>\n      <td>...</td>\n      <td>...</td>\n      <td>...</td>\n      <td>...</td>\n      <td>...</td>\n      <td>...</td>\n      <td>...</td>\n      <td>...</td>\n      <td>...</td>\n    </tr>\n    <tr>\n      <th>234</th>\n      <td>Viet Nam</td>\n      <td>0.2889</td>\n      <td>0.2896</td>\n      <td>0.2982</td>\n      <td>0.3406</td>\n      <td>0.3680</td>\n      <td>0.4257</td>\n      <td>0.4674</td>\n      <td>0.5370</td>\n      <td>0.5896</td>\n      <td>...</td>\n      <td>1.7654</td>\n      <td>1.7416</td>\n      <td>1.8201</td>\n      <td>1.9806</td>\n      <td>2.1858</td>\n      <td>2.3842</td>\n      <td>2.4446</td>\n      <td>3.0147</td>\n      <td>3.5678</td>\n      <td>3.6764</td>\n    </tr>\n    <tr>\n      <th>235</th>\n      <td>World</td>\n      <td>4.0209</td>\n      <td>3.9833</td>\n      <td>3.9103</td>\n      <td>3.8750</td>\n      <td>3.8420</td>\n      <td>3.8939</td>\n      <td>3.9196</td>\n      <td>3.9353</td>\n      <td>3.9075</td>\n      <td>...</td>\n      <td>4.6895</td>\n      <td>4.6853</td>\n      <td>4.7194</td>\n      <td>4.6818</td>\n      <td>4.6008</td>\n      <td>4.5575</td>\n      <td>4.5773</td>\n      <td>4.6413</td>\n      <td>4.5820</td>\n      <td>4.2919</td>\n    </tr>\n    <tr>\n      <th>236</th>\n      <td>Yemen, Rep.</td>\n      <td>0.4966</td>\n      <td>0.6116</td>\n      <td>0.6325</td>\n      <td>0.5706</td>\n      <td>0.6005</td>\n      <td>0.6540</td>\n      <td>0.6500</td>\n      <td>0.6804</td>\n      <td>0.7074</td>\n      <td>...</td>\n      <td>0.9009</td>\n      <td>0.8013</td>\n      <td>1.0312</td>\n      <td>0.9883</td>\n      <td>0.4752</td>\n      <td>0.3428</td>\n      <td>0.3224</td>\n      <td>0.3686</td>\n      <td>0.3549</td>\n      <td>0.3085</td>\n    </tr>\n    <tr>\n      <th>237</th>\n      <td>Zambia</td>\n      <td>0.3566</td>\n      <td>0.3650</td>\n      <td>0.3527</td>\n      <td>0.3040</td>\n      <td>0.2530</td>\n      <td>0.2452</td>\n      <td>0.1979</td>\n      <td>0.2502</td>\n      <td>0.2319</td>\n      <td>...</td>\n      <td>0.2138</td>\n      <td>0.2733</td>\n      <td>0.2782</td>\n      <td>0.2978</td>\n      <td>0.3051</td>\n      <td>0.3170</td>\n      <td>0.3937</td>\n      <td>0.4405</td>\n      <td>0.4143</td>\n      <td>0.4019</td>\n    </tr>\n    <tr>\n      <th>238</th>\n      <td>Zimbabwe</td>\n      <td>1.6349</td>\n      <td>1.7635</td>\n      <td>1.7356</td>\n      <td>1.5818</td>\n      <td>1.4698</td>\n      <td>1.4084</td>\n      <td>1.3296</td>\n      <td>1.2168</td>\n      <td>1.2186</td>\n      <td>...</td>\n      <td>0.8719</td>\n      <td>0.9012</td>\n      <td>0.9012</td>\n      <td>0.8668</td>\n      <td>0.8470</td>\n      <td>0.7231</td>\n      <td>0.6631</td>\n      <td>0.7354</td>\n      <td>0.6633</td>\n      <td>0.5305</td>\n    </tr>\n  </tbody>\n</table>\n<p>239 rows × 32 columns</p>\n</div>"
     },
     "execution_count": 8,
     "metadata": {},
     "output_type": "execute_result"
    }
   ],
   "source": [
    "table_name = 'co2_emissions'\n",
    "read_table(table_name, connection_settings)"
   ]
  },
  {
   "cell_type": "code",
   "execution_count": 9,
   "id": "b7408b25",
   "metadata": {
    "ExecuteTime": {
     "end_time": "2023-12-08T14:56:26.925016900Z",
     "start_time": "2023-12-08T14:56:26.810221100Z"
    }
   },
   "outputs": [
    {
     "name": "stdout",
     "output_type": "stream",
     "text": [
      "<bound method NDFrame.head of                           Country  Year  CO2 Emissions\n",
      "0                     Afghanistan  1990         0.1914\n",
      "1     Africa Eastern and Southern  1990         0.9830\n",
      "2      Africa Western and Central  1990         0.4701\n",
      "3                         Albania  1990         1.8440\n",
      "4                         Algeria  1990         2.4664\n",
      "...                           ...   ...            ...\n",
      "7404                     Viet Nam  2020         3.6764\n",
      "7405                        World  2020         4.2919\n",
      "7406                  Yemen, Rep.  2020         0.3085\n",
      "7407                       Zambia  2020         0.4019\n",
      "7408                     Zimbabwe  2020         0.5305\n",
      "\n",
      "[7409 rows x 3 columns]>\n"
     ]
    }
   ],
   "source": [
    "def melt_years(df):\n",
    "        year_cols = [col for col in df.columns if col != 'Country']\n",
    "        df_melted = pd.melt(df, id_vars='Country', value_vars=year_cols, var_name='Year', value_name='CO2 Emissions')\n",
    "        return df_melted\n",
    "\n",
    "df_melted = melt_years(read_table(table_name, connection_settings))\n",
    "print(df_melted.head)"
   ]
  },
  {
   "cell_type": "code",
   "execution_count": 10,
   "id": "9597ad4b",
   "metadata": {
    "ExecuteTime": {
     "end_time": "2023-12-08T14:56:26.951072100Z",
     "start_time": "2023-12-08T14:56:26.880096500Z"
    }
   },
   "outputs": [],
   "source": [
    "df_melted.to_csv('df_melted_all.txt', sep='\\t', index=False)"
   ]
  },
  {
   "cell_type": "code",
   "execution_count": 11,
   "id": "77e9dd78",
   "metadata": {
    "ExecuteTime": {
     "end_time": "2023-12-08T14:56:27.265317Z",
     "start_time": "2023-12-08T14:56:26.899798600Z"
    }
   },
   "outputs": [
    {
     "ename": "ModuleNotFoundError",
     "evalue": "No module named 'prettytable'",
     "output_type": "error",
     "traceback": [
      "\u001B[1;31m---------------------------------------------------------------------------\u001B[0m",
      "\u001B[1;31mModuleNotFoundError\u001B[0m                       Traceback (most recent call last)",
      "Cell \u001B[1;32mIn[11], line 2\u001B[0m\n\u001B[0;32m      1\u001B[0m \u001B[38;5;28;01mimport\u001B[39;00m \u001B[38;5;21;01mcsv\u001B[39;00m\n\u001B[1;32m----> 2\u001B[0m \u001B[38;5;28;01mfrom\u001B[39;00m \u001B[38;5;21;01mprettytable\u001B[39;00m \u001B[38;5;28;01mimport\u001B[39;00m PrettyTable\n\u001B[0;32m      3\u001B[0m \u001B[38;5;28;01mwith\u001B[39;00m \u001B[38;5;28mopen\u001B[39m(\u001B[38;5;124m'\u001B[39m\u001B[38;5;124mdf_melted_all.txt\u001B[39m\u001B[38;5;124m'\u001B[39m) \u001B[38;5;28;01mas\u001B[39;00m f:\n\u001B[0;32m      4\u001B[0m     data \u001B[38;5;241m=\u001B[39m \u001B[38;5;28mlist\u001B[39m(csv\u001B[38;5;241m.\u001B[39mreader(f, delimiter\u001B[38;5;241m=\u001B[39m\u001B[38;5;124m'\u001B[39m\u001B[38;5;130;01m\\t\u001B[39;00m\u001B[38;5;124m'\u001B[39m))\n",
      "\u001B[1;31mModuleNotFoundError\u001B[0m: No module named 'prettytable'"
     ]
    }
   ],
   "source": [
    "import csv\n",
    "from prettytable import PrettyTable\n",
    "with open('df_melted_all.txt') as f:\n",
    "    data = list(csv.reader(f, delimiter='\\t'))\n",
    "    table = PrettyTable(data[0])\n",
    "    for row in data[1:]:\n",
    "        table.add_row(row)\n",
    "    print(table)"
   ]
  },
  {
   "cell_type": "code",
   "execution_count": null,
   "id": "efbd10fe",
   "metadata": {
    "ExecuteTime": {
     "end_time": "2023-12-08T14:56:27.270208800Z",
     "start_time": "2023-12-08T14:56:27.266305100Z"
    }
   },
   "outputs": [],
   "source": [
    "df = pd.read_csv(\"df_melted_all.txt\", sep=\"\\t\", header=None)\n",
    "df.columns = [\"Country\", \"Year\", \"CO2 emissions (metric tons per capita)\"]\n",
    "print(df)"
   ]
  },
  {
   "cell_type": "code",
   "execution_count": null,
   "id": "083527f8",
   "metadata": {
    "ExecuteTime": {
     "start_time": "2023-12-08T14:56:27.268263Z"
    }
   },
   "outputs": [],
   "source": [
    "# Two different layouts for co2 table depending on what is easier to create an output table\n",
    "table_name = 'co2_emissions_output'\n",
    "read_table(table_name, connection_settings)"
   ]
  },
  {
   "cell_type": "code",
   "execution_count": null,
   "id": "329feda5",
   "metadata": {
    "ExecuteTime": {
     "start_time": "2023-12-08T14:56:27.270208800Z"
    }
   },
   "outputs": [],
   "source": [
    "table_name = 'global_temperature'\n",
    "read_table(table_name, connection_settings)"
   ]
  },
  {
   "cell_type": "code",
   "execution_count": null,
   "id": "8f5c539a",
   "metadata": {
    "scrolled": true,
    "ExecuteTime": {
     "end_time": "2023-12-08T14:56:27.272161800Z",
     "start_time": "2023-12-08T14:56:27.272161800Z"
    }
   },
   "outputs": [],
   "source": [
    "table_name = 'ev_car_sales'\n",
    "read_table(table_name, connection_settings)"
   ]
  },
  {
   "cell_type": "code",
   "execution_count": null,
   "id": "44ce8d96",
   "metadata": {
    "ExecuteTime": {
     "start_time": "2023-12-08T14:56:27.273137500Z"
    }
   },
   "outputs": [],
   "source": [
    "####NEED to combine tables"
   ]
  },
  {
   "cell_type": "code",
   "execution_count": null,
   "id": "86043484",
   "metadata": {
    "ExecuteTime": {
     "end_time": "2023-12-08T14:56:27.277649900Z",
     "start_time": "2023-12-08T14:56:27.275686200Z"
    }
   },
   "outputs": [],
   "source": []
  }
 ],
 "metadata": {
  "kernelspec": {
   "display_name": "Python 3 (ipykernel)",
   "language": "python",
   "name": "python3"
  },
  "language_info": {
   "codemirror_mode": {
    "name": "ipython",
    "version": 3
   },
   "file_extension": ".py",
   "mimetype": "text/x-python",
   "name": "python",
   "nbconvert_exporter": "python",
   "pygments_lexer": "ipython3",
   "version": "3.11.4"
  }
 },
 "nbformat": 4,
 "nbformat_minor": 5
}
