{
 "cells": [
  {
   "cell_type": "code",
   "execution_count": 14,
   "metadata": {},
   "outputs": [],
   "source": [
    "from bs4 import BeautifulSoup\n",
    "import requests\n",
    "import xml.etree.ElementTree as ET\n",
    "import pymongo\n",
    "import pandas as pd\n",
    "from sqlalchemy import create_engine"
   ]
  },
  {
   "cell_type": "code",
   "execution_count": 3,
   "metadata": {},
   "outputs": [],
   "source": [
    "url = 'https://en.wikipedia.org/wiki/List_of_countries_by_air_pollution'\n",
    "page = requests.get(url)\n",
    "soup = BeautifulSoup(page.text, 'html.parser')\n",
    "tables = soup.find_all('table', class_='wikitable sortable')\n",
    "air_pollution_table = tables[0]\n",
    "root = ET.Element(\"table_data\")"
   ]
  },
  {
   "cell_type": "code",
   "execution_count": 4,
   "metadata": {},
   "outputs": [],
   "source": [
    "headings = air_pollution_table.find_all('th')\n",
    "headings_element = ET.SubElement(root, \"headings\")\n",
    "for heading in headings:\n",
    "    heading_text = heading.get_text(strip=True)\n",
    "    heading_element = ET.SubElement(headings_element, \"heading\")\n",
    "    heading_element.text = heading_text"
   ]
  },
  {
   "cell_type": "code",
   "execution_count": 5,
   "metadata": {},
   "outputs": [],
   "source": [
    "rows = air_pollution_table.find_all('tr')[1:]  # Skip headings\n",
    "rows_element = ET.SubElement(root, \"rows\")\n",
    "\n",
    "for row in rows:\n",
    "    row_element = ET.SubElement(rows_element, \"row\")\n",
    "    cells = row.find_all(['td', 'th'])\n",
    "    for cell in cells:\n",
    "        cell_text = cell.get_text(strip=True)\n",
    "        cell_element = ET.SubElement(row_element, \"cell\")\n",
    "        cell_element.text = cell_text"
   ]
  },
  {
   "cell_type": "code",
   "execution_count": 7,
   "metadata": {},
   "outputs": [],
   "source": [
    "tree = ET.ElementTree(root)\n",
    "\n",
    "with open('air_pollution.xml', \"wb\") as xml_f:\n",
    "    tree.write(xml_f, xml_declaration=True)"
   ]
  },
  {
   "cell_type": "code",
   "execution_count": 8,
   "metadata": {},
   "outputs": [],
   "source": [
    "client = pymongo.MongoClient('192.168.56.30', 27017)\n",
    "db = client.climate\n",
    "collection = db.air_pollution_collection\n",
    "\n",
    "with open('air_pollution.xml', 'rb') as xml_f:\n",
    "    xml_data = xml_f.read()\n",
    "    document = {'air_pollution': xml_data}\n",
    "    collection.insert_one(document)"
   ]
  },
  {
   "cell_type": "code",
   "execution_count": 9,
   "metadata": {},
   "outputs": [],
   "source": [
    "document = collection.find_one()\n",
    "xml_data = document['air_pollution']\n",
    "root = ET.fromstring(xml_data)\n",
    "headings = [heading.text for heading in root.findall('.//headings/heading')]"
   ]
  },
  {
   "cell_type": "code",
   "execution_count": 16,
   "metadata": {},
   "outputs": [
    {
     "data": {
      "text/html": [
       "<div>\n",
       "<style scoped>\n",
       "    .dataframe tbody tr th:only-of-type {\n",
       "        vertical-align: middle;\n",
       "    }\n",
       "\n",
       "    .dataframe tbody tr th {\n",
       "        vertical-align: top;\n",
       "    }\n",
       "\n",
       "    .dataframe thead th {\n",
       "        text-align: right;\n",
       "    }\n",
       "</style>\n",
       "<table border=\"1\" class=\"dataframe\">\n",
       "  <thead>\n",
       "    <tr style=\"text-align: right;\">\n",
       "      <th></th>\n",
       "      <th>Rank</th>\n",
       "      <th>Country/Region</th>\n",
       "      <th>2022</th>\n",
       "      <th>2021</th>\n",
       "      <th>2020</th>\n",
       "      <th>2019</th>\n",
       "      <th>2018</th>\n",
       "      <th>Population</th>\n",
       "    </tr>\n",
       "  </thead>\n",
       "  <tbody>\n",
       "    <tr>\n",
       "      <th>0</th>\n",
       "      <td>1</td>\n",
       "      <td>Chad</td>\n",
       "      <td>89.7</td>\n",
       "      <td>75.9</td>\n",
       "      <td>--</td>\n",
       "      <td>--</td>\n",
       "      <td>--</td>\n",
       "      <td>17,179,740</td>\n",
       "    </tr>\n",
       "    <tr>\n",
       "      <th>1</th>\n",
       "      <td>2</td>\n",
       "      <td>Iraq</td>\n",
       "      <td>80.1</td>\n",
       "      <td>49.7</td>\n",
       "      <td>--</td>\n",
       "      <td>39.6</td>\n",
       "      <td>--</td>\n",
       "      <td>43,533,592</td>\n",
       "    </tr>\n",
       "    <tr>\n",
       "      <th>2</th>\n",
       "      <td>3</td>\n",
       "      <td>Pakistan</td>\n",
       "      <td>70.9</td>\n",
       "      <td>66.8</td>\n",
       "      <td>59</td>\n",
       "      <td>65.8</td>\n",
       "      <td>74.3</td>\n",
       "      <td>231,402,117</td>\n",
       "    </tr>\n",
       "    <tr>\n",
       "      <th>3</th>\n",
       "      <td>4</td>\n",
       "      <td>Bahrain</td>\n",
       "      <td>66.6</td>\n",
       "      <td>49.8</td>\n",
       "      <td>39.7</td>\n",
       "      <td>46.8</td>\n",
       "      <td>59.8</td>\n",
       "      <td>1,463,265</td>\n",
       "    </tr>\n",
       "    <tr>\n",
       "      <th>4</th>\n",
       "      <td>5</td>\n",
       "      <td>Bangladesh</td>\n",
       "      <td>65.8</td>\n",
       "      <td>76.9</td>\n",
       "      <td>77.1</td>\n",
       "      <td>83.3</td>\n",
       "      <td>97.1</td>\n",
       "      <td>169,356,251</td>\n",
       "    </tr>\n",
       "    <tr>\n",
       "      <th>...</th>\n",
       "      <td>...</td>\n",
       "      <td>...</td>\n",
       "      <td>...</td>\n",
       "      <td>...</td>\n",
       "      <td>...</td>\n",
       "      <td>...</td>\n",
       "      <td>...</td>\n",
       "      <td>...</td>\n",
       "    </tr>\n",
       "    <tr>\n",
       "      <th>126</th>\n",
       "      <td>127</td>\n",
       "      <td>Bonaire, Saint Eustatius and Saba</td>\n",
       "      <td>3.3</td>\n",
       "      <td>5.1</td>\n",
       "      <td>--</td>\n",
       "      <td>--</td>\n",
       "      <td>--</td>\n",
       "      <td>26,221</td>\n",
       "    </tr>\n",
       "    <tr>\n",
       "      <th>127</th>\n",
       "      <td>128</td>\n",
       "      <td>Bermuda</td>\n",
       "      <td>3</td>\n",
       "      <td>--</td>\n",
       "      <td>--</td>\n",
       "      <td>--</td>\n",
       "      <td>--</td>\n",
       "      <td>63,867</td>\n",
       "    </tr>\n",
       "    <tr>\n",
       "      <th>128</th>\n",
       "      <td>129</td>\n",
       "      <td>U.S. Virgin Islands</td>\n",
       "      <td>2.9</td>\n",
       "      <td>4.5</td>\n",
       "      <td>3.7</td>\n",
       "      <td>3.5</td>\n",
       "      <td>--</td>\n",
       "      <td>105,870</td>\n",
       "    </tr>\n",
       "    <tr>\n",
       "      <th>129</th>\n",
       "      <td>130</td>\n",
       "      <td>French Polynesia</td>\n",
       "      <td>2.5</td>\n",
       "      <td>--</td>\n",
       "      <td>--</td>\n",
       "      <td>--</td>\n",
       "      <td>--</td>\n",
       "      <td>304,032</td>\n",
       "    </tr>\n",
       "    <tr>\n",
       "      <th>130</th>\n",
       "      <td>131</td>\n",
       "      <td>Guam</td>\n",
       "      <td>1.3</td>\n",
       "      <td>--</td>\n",
       "      <td>--</td>\n",
       "      <td>--</td>\n",
       "      <td>--</td>\n",
       "      <td>170,534</td>\n",
       "    </tr>\n",
       "  </tbody>\n",
       "</table>\n",
       "<p>131 rows × 8 columns</p>\n",
       "</div>"
      ],
      "text/plain": [
       "    Rank                     Country/Region  2022  2021  2020  2019  2018  \\\n",
       "0      1                               Chad  89.7  75.9    --    --    --   \n",
       "1      2                               Iraq  80.1  49.7    --  39.6    --   \n",
       "2      3                           Pakistan  70.9  66.8    59  65.8  74.3   \n",
       "3      4                            Bahrain  66.6  49.8  39.7  46.8  59.8   \n",
       "4      5                         Bangladesh  65.8  76.9  77.1  83.3  97.1   \n",
       "..   ...                                ...   ...   ...   ...   ...   ...   \n",
       "126  127  Bonaire, Saint Eustatius and Saba   3.3   5.1    --    --    --   \n",
       "127  128                            Bermuda     3    --    --    --    --   \n",
       "128  129                U.S. Virgin Islands   2.9   4.5   3.7   3.5    --   \n",
       "129  130                   French Polynesia   2.5    --    --    --    --   \n",
       "130  131                               Guam   1.3    --    --    --    --   \n",
       "\n",
       "      Population  \n",
       "0     17,179,740  \n",
       "1     43,533,592  \n",
       "2    231,402,117  \n",
       "3      1,463,265  \n",
       "4    169,356,251  \n",
       "..           ...  \n",
       "126       26,221  \n",
       "127       63,867  \n",
       "128      105,870  \n",
       "129      304,032  \n",
       "130      170,534  \n",
       "\n",
       "[131 rows x 8 columns]"
      ]
     },
     "execution_count": 16,
     "metadata": {},
     "output_type": "execute_result"
    }
   ],
   "source": [
    "data = []\n",
    "\n",
    "for row in root.findall('.//rows/row'):\n",
    "    row_data = [cell.text for cell in row.findall('.//cell')]\n",
    "    data.append(row_data)\n",
    "\n",
    "air_poll_df = pd.DataFrame(data, columns=headings)\n",
    "air_poll_df"
   ]
  },
  {
   "cell_type": "code",
   "execution_count": 17,
   "metadata": {},
   "outputs": [
    {
     "name": "stdout",
     "output_type": "stream",
     "text": [
      "DataFrame uploaded to PostgreSQL successfully.\n"
     ]
    }
   ],
   "source": [
    "#Upload dataframe to postgres\n"
   ]
  },
  {
   "cell_type": "code",
   "execution_count": null,
   "metadata": {},
   "outputs": [],
   "source": [
    "#(null values)\n",
    "# maybe merge on air_pollution or global temps country/region for output table"
   ]
  }
 ],
 "metadata": {
  "kernelspec": {
   "display_name": "base",
   "language": "python",
   "name": "python3"
  },
  "language_info": {
   "codemirror_mode": {
    "name": "ipython",
    "version": 3
   },
   "file_extension": ".py",
   "mimetype": "text/x-python",
   "name": "python",
   "nbconvert_exporter": "python",
   "pygments_lexer": "ipython3",
   "version": "3.8.5"
  },
  "orig_nbformat": 4,
  "vscode": {
   "interpreter": {
    "hash": "ad2bdc8ecc057115af97d19610ffacc2b4e99fae6737bb82f5d7fb13d2f2c186"
   }
  }
 },
 "nbformat": 4,
 "nbformat_minor": 2
}
