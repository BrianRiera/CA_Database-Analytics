{
 "cells": [
  {
   "cell_type": "code",
   "execution_count": 432,
   "id": "initial_id",
   "metadata": {
    "collapsed": true,
    "ExecuteTime": {
     "end_time": "2023-12-11T15:11:14.853820200Z",
     "start_time": "2023-12-11T15:11:13.109934Z"
    }
   },
   "outputs": [],
   "source": [
    "import csv \n",
    "import json\n",
    "\n",
    "csvpath = r'UNFCCC_v26.csv'\n",
    "jsonpath = r'UNFCCC_v26.json'\n",
    "\n",
    "convert_csv_into_json(csvpath, jsonpath)\n",
    "\n",
    "\n",
    "def convert_csv_into_json(csvpath, jsonpath):\n",
    "    array4json = []\n",
    "      \n",
    "    #reading the csv file from csv path\n",
    "    with (open(csvpath, encoding='utf-8') as csvf): \n",
    "        csvReader = csv.DictReader(csvf) \n",
    "\n",
    "        rowcount = 0\n",
    "        for row in csvReader: \n",
    "            #Read only Car specific and Total data\n",
    "            if  row['Pollutant_name'] == 'All greenhouse gases - (CO2 equivalent)' and (row['Sector_name'] == '1.A.3.b.i - Cars'  or row['Sector_name'] == 'Total emissions (UNFCCC)') :\n",
    "                array4json.append(row)\n",
    "                rowcount += 1\n",
    "    with open(jsonpath, 'w', encoding='utf-8') as jsonf: \n",
    "        jsonString = json.dumps(array4json, indent=4)\n",
    "        jsonf.write(jsonString)\n"
   ]
  },
  {
   "cell_type": "code",
   "execution_count": 21,
   "outputs": [],
   "source": [
    "import psycopg2 \n",
    "\n",
    "createString = \"\"\"\n",
    "CREATE TABLE IF NOT EXISTS GreenHouse_CO2 (\n",
    "Country_code char(20),\n",
    "Country\tvarchar(50),\n",
    "Format_name\tvarchar(50),\n",
    "Pollutant_name\tvarchar(200),\n",
    "Sector_code\tvarchar(50),\n",
    "Sector_name\tvarchar(300),\n",
    "Parent_sector_code\tvarchar(30),\n",
    "Unit\tvarchar(30),\n",
    "Year\tinteger,\n",
    "emissions\tnumeric, \n",
    "Notation varchar(30),\n",
    "PublicationDate integer,\n",
    "DataSource varchar(30)\n",
    ");\n",
    "\"\"\"\n",
    "\n",
    "insertdata = '''COPY GreenHouse_CO2(Country_code, Country, Format_name, Pollutant_name, Sector_code, Sector_name, Parent_sector_code, Unit, Year, emissions) FROM 'UNFCCC_v26.csv' \n",
    "DELIMITER ',' \n",
    "CSV HEADER;'''\n",
    "\n",
    "readdata = '''select count(*) from GreenHouse_CO2;'''\n"
   ],
   "metadata": {
    "collapsed": false,
    "ExecuteTime": {
     "end_time": "2023-12-08T16:50:23.728112700Z",
     "start_time": "2023-12-08T16:50:23.720665100Z"
    }
   },
   "id": "19f1aa465f888913"
  },
  {
   "cell_type": "code",
   "execution_count": 51,
   "outputs": [
    {
     "name": "stdout",
     "output_type": "stream",
     "text": [
      "[(2080,)]\n"
     ]
    }
   ],
   "source": [
    "try :\n",
    "    dbConnection = psycopg2.connect(\n",
    "        user = \"dap\",\n",
    "        password = \"dap\",\n",
    "        host = \"192.168.56.30\",\n",
    "        port = \"5432\",\n",
    "        database = \"climate\")\n",
    "    dbConnection.set_isolation_level(0) # AUTOCOMMIT\n",
    "    dbCursor = dbConnection.cursor()\n",
    "    #dbCursor.execute(\"drop table GreenHouse_CO2;\")\n",
    "    #dbCursor.execute(createString)\n",
    "    dbCursor.execute(readdata)\n",
    "    print (dbCursor.fetchall())\n",
    "    dbCursor.close()\n",
    "except (Exception , psycopg2.Error) as dbError :\n",
    "    print (\"Error while connecting to PostgreSQL\", dbError)\n",
    "finally:\n",
    "    if(dbConnection):\n",
    "        dbConnection.close()"
   ],
   "metadata": {
    "collapsed": false,
    "ExecuteTime": {
     "end_time": "2023-12-08T18:45:13.170868800Z",
     "start_time": "2023-12-08T18:45:13.083232500Z"
    }
   },
   "id": "cac0fcaa8760afa9"
  },
  {
   "cell_type": "code",
   "execution_count": 50,
   "outputs": [],
   "source": [
    "import csv\n",
    "\n",
    "\n",
    "try:\n",
    "    dbConnection = psycopg2.connect(\n",
    "                            user = \"dap\",\n",
    "                            password = \"dap\",\n",
    "                            host = \"192.168.56.30\",\n",
    "                            port = \"5432\",\n",
    "                            database = \"climate\")\n",
    "    dbConnection.set_isolation_level(0) # AUTOCOMMIT\n",
    "    dbCursor = dbConnection.cursor()\n",
    "    #insertString = \"INSERT INTO GreenHouse_CO2 VALUES ('{}',\"+\"'{}',\"*8+\"'to_number({}, '9999999999.99999')','{}','{}','{}')\"\n",
    "    insertString = \"INSERT INTO GreenHouse_CO2 VALUES ('{}',\" + \"'{}',\"*8 + \"cast(coalesce(nullif('{}',''),'0') as float),'{}','{}','{}')\"\n",
    "\n",
    "    #print(insertString)\n",
    "    with open('UNFCCC_v26.csv', 'r') as f:\n",
    "        reader = csv.reader(f)\n",
    "        next(reader) # skip the header\n",
    "        for row in reader:\n",
    "            #print(insertString.format(*row))\n",
    "            if  row[3] == 'All greenhouse gases - (CO2 equivalent)' and (row[5] == '1.A.3.b.i - Cars'  or row[5] == 'Total emissions (UNFCCC)') and row[8] != '1985-1987'  :\n",
    "                dbCursor.execute(insertString.format(*row))\n",
    "    dbCursor.close()\n",
    "except (Exception , psycopg2.Error) as dbError :\n",
    "    print (\"Error:\", dbError)\n",
    "finally:\n",
    "    if(dbConnection):\n",
    "        dbConnection.close()"
   ],
   "metadata": {
    "collapsed": false,
    "ExecuteTime": {
     "end_time": "2023-12-08T18:44:53.572836Z",
     "start_time": "2023-12-08T18:44:37.448726700Z"
    }
   },
   "id": "c2db80fa5f2553a0"
  },
  {
   "cell_type": "code",
   "execution_count": 95,
   "outputs": [
    {
     "name": "stdout",
     "output_type": "stream",
     "text": [
      "(2008, Decimal('480951.23224'))\n",
      "(1994, Decimal('413206.13667'))\n",
      "(2014, Decimal('458349.51112'))\n",
      "(2010, Decimal('470814.63768'))\n",
      "(2019, Decimal('483220.2505'))\n",
      "(1991, Decimal('394510.12301'))\n",
      "(1996, Decimal('431891.76723'))\n",
      "(2000, Decimal('457223.42201'))\n",
      "(2011, Decimal('464550.59445'))\n",
      "(2017, Decimal('483452.27248'))\n",
      "(2009, Decimal('476868.11133'))\n",
      "(2005, Decimal('480541.41953'))\n",
      "(2013, Decimal('448657.44576'))\n",
      "(2003, Decimal('477794.44771'))\n",
      "(2015, Decimal('466627.86469'))\n",
      "(1993, Decimal('410755.30427'))\n",
      "(1990, Decimal('388860.35004'))\n",
      "(1998, Decimal('450957.85969'))\n",
      "(2007, Decimal('488774.54313'))\n",
      "(2002, Decimal('473396.40814'))\n",
      "(2004, Decimal('484375.45057'))\n",
      "(1997, Decimal('436377.19381'))\n",
      "(2006, Decimal('482224.75376'))\n",
      "(2020, Decimal('406560.92397'))\n",
      "(2001, Decimal('464389.6384'))\n",
      "(2016, Decimal('477579.92817'))\n",
      "(1999, Decimal('461226.43213'))\n",
      "(2012, Decimal('446069.6603'))\n",
      "(2018, Decimal('480336.43331'))\n",
      "(1995, Decimal('421372.964'))\n",
      "(1992, Decimal('407381.07945'))\n",
      "(2021, Decimal('440486.99456'))\n",
      "(2008, Decimal('4408412.25575'))\n",
      "(1994, Decimal('4509714.05572'))\n",
      "(2010, Decimal('4180741.67268'))\n",
      "(2014, Decimal('3767739.32618'))\n",
      "(1991, Decimal('4761867.85835'))\n",
      "(2019, Decimal('3591293.62535'))\n",
      "(1996, Decimal('4650978.34252'))\n",
      "(2000, Decimal('4452021.6243'))\n",
      "(2011, Decimal('4069866.13577'))\n",
      "(2017, Decimal('3836066.4466'))\n",
      "(2009, Decimal('4092959.28975'))\n",
      "(2005, Decimal('4541881.89835'))\n",
      "(2013, Decimal('3908576.75698'))\n",
      "(2003, Decimal('4566353.96585'))\n",
      "(2015, Decimal('3812415.62586'))\n",
      "(1993, Decimal('4533165.14753'))\n",
      "(1990, Decimal('4866997.59775'))\n",
      "(1998, Decimal('4540461.70646'))\n",
      "(2007, Decimal('4502767.65157'))\n",
      "(2002, Decimal('4485727.99169'))\n",
      "(2004, Decimal('4568722.10312'))\n",
      "(1997, Decimal('4579674.03966'))\n",
      "(2006, Decimal('4538039.03394'))\n",
      "(2020, Decimal('3303600.54329'))\n",
      "(2001, Decimal('4500256.33936'))\n",
      "(2016, Decimal('3814693.5723'))\n",
      "(1999, Decimal('4464183.3389'))\n",
      "(2012, Decimal('3995310.05734'))\n",
      "(2018, Decimal('3750770.81016'))\n",
      "(1995, Decimal('4560147.85956'))\n",
      "(2021, Decimal('3471700.31182'))\n",
      "(1992, Decimal('4611658.68219'))\n"
     ]
    }
   ],
   "source": [
    "readCO2Emissions_cars = '''Select Year,  \n",
    "    sum(emissions) as CarsEmission\n",
    "    from GreenHouse_CO2\n",
    "    where Sector_name = '1.A.3.b.i - Cars' and Country_code = 'EUA'\n",
    "    group by  Year\n",
    "'''\n",
    "\n",
    "readCO2Emissions_ALL = '''Select Year,\n",
    "    sum(emissions) as TotalEmission\n",
    "    from GreenHouse_CO2\n",
    "    where Sector_name = 'Total emissions (UNFCCC)' and Country_code = 'EUA'\n",
    "    group by  Year\n",
    "'''\n",
    "\n",
    "\n",
    "try:\n",
    "    dbConnection = psycopg2.connect(user = \"dap\",\n",
    "    password = \"dap\",\n",
    "    host = \"192.168.56.30\",\n",
    "    port = \"5432\",\n",
    "    database = \"climate\")\n",
    "    dbConnection.set_isolation_level(0) # AUTOCOMMIT\n",
    "    dbCursor = dbConnection.cursor()\n",
    "    dbCursor.execute(readCO2Emissions_cars)\n",
    "  \n",
    "    CO2_cars_Only = dbCursor.fetchall(); \n",
    "\n",
    "    dbCursor.execute(readCO2Emissions_ALL)\n",
    "    CO2_all_sector = dbCursor.fetchall(); \n",
    "\n",
    "    dbCursor.close()\n",
    "except (Exception , psycopg2.Error) as dbError :\n",
    "    print (\"Error while connecting to PostgreSQL\", dbError)\n",
    "finally:\n",
    "    if(dbConnection):\n",
    "        dbConnection.close()\n"
   ],
   "metadata": {
    "collapsed": false,
    "ExecuteTime": {
     "end_time": "2023-12-08T20:44:04.471123900Z",
     "start_time": "2023-12-08T20:44:04.393243Z"
    }
   },
   "id": "9d861ed17cad3c14"
  },
  {
   "cell_type": "code",
   "execution_count": 437,
   "outputs": [
    {
     "data": {
      "text/plain": "<Figure size 1200x600 with 1 Axes>",
      "image/png": "[encoded data removed]"
     },
     "metadata": {},
     "output_type": "display_data"
    }
   ],
   "source": [
    "import pandas as pd\n",
    "import matplotlib.pyplot as plt\n",
    "\n",
    "df = pd.DataFrame(CO2_cars_Only, columns =['Year', 'CarsEmission'])\n",
    "sorted_df_cars = df.sort_values('Year').reindex()\n",
    "\n",
    "df1 = pd.DataFrame(CO2_all_sector, columns =['Year', 'AllEmission'])\n",
    "sorted_df_all = df1.sort_values('Year').reindex()\n",
    "\n",
    "df_combined = pd.merge(sorted_df_cars, sorted_df_all, on='Year')\n",
    "\n",
    "plt.figure(figsize=(12, 6))\n",
    "plt.plot(df_combined['Year'], df_combined['CarsEmission'], label = 'Cars Only', marker='o')\n",
    "plt.plot(df_combined['Year'], df_combined['AllEmission'], label = 'Total CO2 Emissions - All Industries', marker='*')\n",
    "\n",
    "n = 4  \n",
    "\n",
    "for i, (year, CarsEmissionDataPoint) in enumerate(zip(df_combined['Year'], df_combined['CarsEmission'])):\n",
    "    if i % n == 0:\n",
    "        plt.text(year, CarsEmissionDataPoint, f'{CarsEmissionDataPoint:,.0f}', ha='center', va='top', color='yellow')\n",
    "\n",
    "for year, allEmissionDataPoint in zip(df_combined['Year'], df_combined['AllEmission']):\n",
    "    if year % n == 0:\n",
    "        plt.text(year, allEmissionDataPoint, f'{allEmissionDataPoint:,.0f}', ha='center', va='bottom', color='green')\n",
    "\n",
    "plt.title(\"EU27 Countries Greenhouse gases - (CO2 equivalent)\")\n",
    "plt.xlabel('Year')\n",
    "plt.ylabel('CO2 Emissions')\n",
    "plt.legend()\n",
    "plt.show()\n"
   ],
   "metadata": {
    "collapsed": false,
    "ExecuteTime": {
     "end_time": "2023-12-11T15:18:40.827280800Z",
     "start_time": "2023-12-11T15:18:40.662230600Z"
    }
   },
   "id": "42e7882d1dd0b4a8"
  },
  {
   "cell_type": "code",
   "execution_count": 442,
   "outputs": [],
   "source": [
    "import psycopg2 \n",
    "import pandas as pd\n",
    "\n",
    "readActualAndForecastString = '''select * from EU_CARS_ACTUAL_AND_FORECAST;'''\n",
    "\n",
    "\n",
    "try :\n",
    "    dbConnection = psycopg2.connect(\n",
    "        user = \"dap\",\n",
    "        password = \"dap\",\n",
    "        host = \"192.168.56.30\",\n",
    "        port = \"5432\",\n",
    "        database = \"climate\")\n",
    "    dbConnection.set_isolation_level(0) # AUTOCOMMIT\n",
    "    dbCursor = dbConnection.cursor()\n",
    "    dbCursor.execute(readActualAndForecastString)\n",
    "    output = dbCursor.fetchall()\n",
    "    columns = ['Year', 'EVCars', 'EVCarsPercentage', 'AllCars_Total']\n",
    "    df_EU_CARS_ACTUAL_AND_FORECAST = pd.DataFrame(output, columns=columns)\n",
    "    #print (df_EU_CARS_ACTUAL_AND_FORECAST)\n",
    "    df_EU_CARS_ACTUAL_AND_FORECAST.set_index(\"Year\", inplace=True)\n",
    "    #print (df_EU_CARS_ACTUAL_AND_FORECAST)\n",
    "    dbCursor.close()\n",
    "except (Exception , psycopg2.Error) as dbError :\n",
    "    print (\"Error while connecting to PostgreSQL\", dbError)\n",
    "finally:\n",
    "    if(dbConnection):\n",
    "        dbConnection.close()"
   ],
   "metadata": {
    "collapsed": false,
    "ExecuteTime": {
     "end_time": "2023-12-11T15:22:06.896970200Z",
     "start_time": "2023-12-11T15:22:06.716195900Z"
    }
   },
   "id": "ceab56d8e2628ee6"
  },
  {
   "cell_type": "code",
   "execution_count": 1,
   "outputs": [
    {
     "ename": "NameError",
     "evalue": "name 'df_combined' is not defined",
     "output_type": "error",
     "traceback": [
      "\u001B[1;31m---------------------------------------------------------------------------\u001B[0m",
      "\u001B[1;31mNameError\u001B[0m                                 Traceback (most recent call last)",
      "Cell \u001B[1;32mIn[1], line 7\u001B[0m\n\u001B[0;32m      4\u001B[0m \u001B[38;5;28;01mfrom\u001B[39;00m \u001B[38;5;21;01msklearn\u001B[39;00m\u001B[38;5;21;01m.\u001B[39;00m\u001B[38;5;21;01mmetrics\u001B[39;00m \u001B[38;5;28;01mimport\u001B[39;00m mean_squared_error\n\u001B[0;32m      5\u001B[0m \u001B[38;5;28;01mfrom\u001B[39;00m \u001B[38;5;21;01mmath\u001B[39;00m \u001B[38;5;28;01mimport\u001B[39;00m sqrt\n\u001B[1;32m----> 7\u001B[0m values_for_plot \u001B[38;5;241m=\u001B[39m \u001B[43mdf_combined\u001B[49m[\u001B[38;5;124m'\u001B[39m\u001B[38;5;124mCarsEmission\u001B[39m\u001B[38;5;124m'\u001B[39m]\u001B[38;5;241m.\u001B[39mvalues\n\u001B[0;32m     10\u001B[0m \u001B[38;5;66;03m#2020 and 2021 CO2 emission values are low during Covid hance using 2019 data for forecasting\u001B[39;00m\n\u001B[0;32m     11\u001B[0m values_for_forecast \u001B[38;5;241m=\u001B[39m df_combined\n",
      "\u001B[1;31mNameError\u001B[0m: name 'df_combined' is not defined"
     ]
    }
   ],
   "source": [
    "import numpy as np\n",
    "import matplotlib.pyplot as plt\n",
    "from statsmodels.tsa.holtwinters import ExponentialSmoothing\n",
    "from sklearn.metrics import mean_squared_error\n",
    "from math import sqrt\n",
    "\n",
    "values_for_plot = df_combined['CarsEmission'].values\n",
    "\n",
    "\n",
    "#2020 and 2021 CO2 emission values are low during Covid hance using 2019 data for forecasting\n",
    "values_for_forecast = df_combined\n",
    "#print(values_for_forecast.set_index(\"Year\", inplace=True))\n",
    "values_for_forecast.loc[2020] = values_for_forecast.loc[2019] \n",
    "values_for_forecast.loc[2021] = values_for_forecast.loc[2019] \n",
    "\n",
    "# Fit Exponential Smoothing model\n",
    "model = ExponentialSmoothing(values_for_forecast['CarsEmission'].astype(float),  trend='add', seasonal=None)\n",
    "fit_model = model.fit()\n",
    "\n",
    "# Forecasting\n",
    "forecast_steps = 11\n",
    "forecast = fit_model.forecast(steps=forecast_steps)\n",
    "\n",
    "EU_cars_last_forecast_steps =  df_EU_CARS_ACTUAL_AND_FORECAST.iloc[-forecast_steps:]\n",
    "\n",
    "\n",
    "custom_index = [2022, 2023, 2024, 2025, 2026, 2027, 2028, 2029, 2030, 2031, 2032]\n",
    "forecast.index = custom_index\n",
    "EU_cars_last_forecast_steps_pd_series = EU_cars_last_forecast_steps['EVCarsPercentage'].astype(float)\n",
    "\n",
    "forecast_less_ev_percentage = forecast*(1 - EU_cars_last_forecast_steps_pd_series/100) \n",
    "\n",
    "forecast_index = np.arange(df_combined.index.max() +1, df_combined.index.max() + forecast_steps + 1)\n",
    "\n",
    "# Plotting the results\n",
    "plt.figure(figsize=(12, 6))\n",
    "plt.plot(df_combined.index.values,  values_for_plot, label='Cars CO2 Emission Original Data', marker='o')\n",
    "plt.plot(forecast_index, forecast, label='Cars CO2 Emission Forecast', color='red', linestyle='--', marker='o')\n",
    "plt.plot(forecast_index, forecast_less_ev_percentage, label='Cars CO2 Emission Forecast less EV Cars share %', color='green', linestyle='--', marker='*')\n",
    "\n",
    "print(forecast_less_ev_percentage)\n",
    "n = 3  \n",
    "\n",
    "for year, CarsEmissionDataPoint in zip(df_combined.index.values, values_for_plot):\n",
    "    if year % n == 0:\n",
    "        plt.text(year, CarsEmissionDataPoint, f'{CarsEmissionDataPoint:,.0f}', ha='center', va='bottom', color='green')\n",
    "n=5\n",
    "for i, (year, ForecastCarsEmissionDataPoint, ForecastCarsEmissionLessEVDataPoint) in enumerate(zip(forecast_index, forecast,forecast_less_ev_percentage)):\n",
    "    if i % n == 0:\n",
    "        plt.text(year, ForecastCarsEmissionDataPoint, f'{ForecastCarsEmissionDataPoint:,.0f}', ha='center', va='bottom', color='yellow')\n",
    "        plt.text(year, ForecastCarsEmissionLessEVDataPoint, f'{ForecastCarsEmissionLessEVDataPoint:,.0f}', ha='center', va='top', color='cyan')\n",
    "\n",
    "current_ylim = plt.ylim()\n",
    "\n",
    "new_upper_limit = current_ylim[1] * 1.3 \n",
    "plt.ylim(bottom=0, top=new_upper_limit)\n",
    "\n",
    "plt.title('Exponential Smoothing Forecasting - EU27 Countries Greenhouse gases - (For Cars Only)')\n",
    "#plt.ylim(bottom=0)\n",
    "plt.xlabel('Year')\n",
    "plt.ylabel('CO2Emission')\n",
    "plt.legend()\n",
    "plt.show()\n",
    "\n",
    "# Evaluate the model\n",
    "mse = mean_squared_error(values_for_plot, fit_model.fittedvalues)\n",
    "rmse = sqrt(mse)\n"
   ],
   "metadata": {
    "collapsed": false,
    "ExecuteTime": {
     "end_time": "2023-12-11T23:17:15.942102500Z",
     "start_time": "2023-12-11T23:17:14.100376Z"
    }
   },
   "id": "e6d3e1b094e0b258"
  }
 ],
 "metadata": {
  "kernelspec": {
   "display_name": "Python 3",
   "language": "python",
   "name": "python3"
  },
  "language_info": {
   "codemirror_mode": {
    "name": "ipython",
    "version": 2
   },
   "file_extension": ".py",
   "mimetype": "text/x-python",
   "name": "python",
   "nbconvert_exporter": "python",
   "pygments_lexer": "ipython2",
   "version": "2.7.6"
  }
 },
 "nbformat": 4,
 "nbformat_minor": 5
}
